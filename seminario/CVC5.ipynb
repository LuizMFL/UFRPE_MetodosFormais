{
  "nbformat": 4,
  "nbformat_minor": 0,
  "metadata": {
    "colab": {
      "provenance": [],
      "collapsed_sections": [
        "wZDqYBEEO6Z5",
        "gI9ZfwRrO6Z-",
        "hyG5rV4NO6Z_"
      ],
      "toc_visible": true
    },
    "kernelspec": {
      "name": "python3",
      "display_name": "Python 3"
    },
    "language_info": {
      "name": "python"
    }
  },
  "cells": [
    {
      "cell_type": "code",
      "source": [
        "!pip install cvc5"
      ],
      "metadata": {
        "id": "qV9lIh7yBSPs",
        "colab": {
          "base_uri": "https://localhost:8080/"
        },
        "outputId": "81938bed-1548-496b-8f00-97f2d1f605ac"
      },
      "execution_count": 2,
      "outputs": [
        {
          "output_type": "stream",
          "name": "stdout",
          "text": [
            "Collecting cvc5\n",
            "  Downloading cvc5-1.2.1-cp311-cp311-manylinux_2_17_x86_64.manylinux2014_x86_64.whl.metadata (771 bytes)\n",
            "Downloading cvc5-1.2.1-cp311-cp311-manylinux_2_17_x86_64.manylinux2014_x86_64.whl (13.5 MB)\n",
            "\u001b[?25l   \u001b[90m━━━━━━━━━━━━━━━━━━━━━━━━━━━━━━━━━━━━━━━━\u001b[0m \u001b[32m0.0/13.5 MB\u001b[0m \u001b[31m?\u001b[0m eta \u001b[36m-:--:--\u001b[0m\r\u001b[2K   \u001b[91m━━━━━━━━━\u001b[0m\u001b[90m╺\u001b[0m\u001b[90m━━━━━━━━━━━━━━━━━━━━━━━━━━━━━━\u001b[0m \u001b[32m3.1/13.5 MB\u001b[0m \u001b[31m104.6 MB/s\u001b[0m eta \u001b[36m0:00:01\u001b[0m\r\u001b[2K   \u001b[91m━━━━━━━━━━━━━━━━━━━━━━━\u001b[0m\u001b[90m╺\u001b[0m\u001b[90m━━━━━━━━━━━━━━━━\u001b[0m \u001b[32m7.9/13.5 MB\u001b[0m \u001b[31m115.3 MB/s\u001b[0m eta \u001b[36m0:00:01\u001b[0m\r\u001b[2K   \u001b[91m━━━━━━━━━━━━━━━━━━━━━━━━━━━━━━━━━━━\u001b[0m\u001b[91m╸\u001b[0m\u001b[90m━━━━\u001b[0m \u001b[32m12.0/13.5 MB\u001b[0m \u001b[31m113.8 MB/s\u001b[0m eta \u001b[36m0:00:01\u001b[0m\r\u001b[2K   \u001b[91m━━━━━━━━━━━━━━━━━━━━━━━━━━━━━━━━━━━━━━━\u001b[0m\u001b[91m╸\u001b[0m \u001b[32m13.5/13.5 MB\u001b[0m \u001b[31m148.6 MB/s\u001b[0m eta \u001b[36m0:00:01\u001b[0m\r\u001b[2K   \u001b[90m━━━━━━━━━━━━━━━━━━━━━━━━━━━━━━━━━━━━━━━━\u001b[0m \u001b[32m13.5/13.5 MB\u001b[0m \u001b[31m85.4 MB/s\u001b[0m eta \u001b[36m0:00:00\u001b[0m\n",
            "\u001b[?25hInstalling collected packages: cvc5\n",
            "Successfully installed cvc5-1.2.1\n"
          ]
        }
      ]
    },
    {
      "cell_type": "markdown",
      "source": [
        "# Aritmética Inteira e Real\n",
        "A aritmética pode ser classificada em diferentes categorias dependendo do tipo de números e operações envolvidas.  \n",
        "Neste notebook, exploraremos quatro tipos principais de aritmética frequentemente usadas em lógica matemática e computação.\n"
      ],
      "metadata": {
        "id": "orv7SNRBD68K"
      }
    },
    {
      "cell_type": "markdown",
      "source": [
        "## 1. Aritmética Linear Inteira (LIA)\n",
        "A Aritmética Linear Inteira (LIA) lida com equações lineares cujas variáveis assumem apenas valores inteiros.  \n",
        "Ela é muito utilizada em problemas de programação inteira, onde as soluções precisam ser números inteiros, como alocação de recursos e planejamento de produção.\n",
        "\n"
      ],
      "metadata": {
        "id": "Wy8noXlsGLUe"
      }
    },
    {
      "cell_type": "markdown",
      "source": [
        "### Exemplo 1:\n",
        "Resolver a equação linear para valores inteiros:\n",
        "\n",
        "Equação Única\n",
        "$$\n",
        "3x = 15\n",
        "$$\n",
        "\n",
        "onde $ x $ são inteiros.\n"
      ],
      "metadata": {
        "id": "GeLJHrgyGUtm"
      }
    },
    {
      "cell_type": "code",
      "source": [
        "from cvc5.pythonic import *\n",
        "x = Int('x')\n",
        "solve(3*x == 15)  # [x = 5]"
      ],
      "metadata": {
        "id": "dSuJkqsqGp6E",
        "colab": {
          "base_uri": "https://localhost:8080/"
        },
        "outputId": "f7b6fe95-12a9-4c94-8820-6b693cdbd8b1"
      },
      "execution_count": 21,
      "outputs": [
        {
          "output_type": "stream",
          "name": "stdout",
          "text": [
            "[x = 5]\n"
          ]
        }
      ]
    },
    {
      "cell_type": "markdown",
      "source": [
        "### Exemplo 2:\n",
        "Resolver a equação linear para valores inteiros:\n",
        "\n",
        "Duas variáveis\n",
        "$$\n",
        "x + y = 10  \n",
        "$$\n",
        "$$\n",
        "2x - y = 5\n",
        "$$\n",
        "\n",
        "onde $x$, $y$ são inteiros."
      ],
      "metadata": {
        "id": "XvDhp6PpGu1v"
      }
    },
    {
      "cell_type": "code",
      "source": [
        "x, y = Ints('x y')\n",
        "solve(x + y == 10, 2*x - y == 5)  # [x = 5, y = 5]"
      ],
      "metadata": {
        "id": "4KrbFksjHMQL",
        "colab": {
          "base_uri": "https://localhost:8080/"
        },
        "outputId": "886d6e35-5703-4f56-d5dc-ef5326842e3d"
      },
      "execution_count": 22,
      "outputs": [
        {
          "output_type": "stream",
          "name": "stdout",
          "text": [
            "[x = 5, y = 5]\n"
          ]
        }
      ]
    },
    {
      "cell_type": "markdown",
      "source": [
        "### Exemplo 3:\n",
        "Resolver a equação linear para valores inteiros:\n",
        "\n",
        "Planejamento de Produção\n",
        "Encontre valores inteiros onde:\n",
        "\n",
        "$$\n",
        "5a + 3b ≤ 30  \n",
        "$$\n",
        "$$\n",
        "a ≥ 2\n",
        "$$\n",
        "$$\n",
        "b ≥ 4  \n",
        "$$\n",
        "\n",
        "e maximizar\n",
        "$$\n",
        "4a + 5b\n",
        "$$\n",
        "\n",
        "onde $a$, $b$ são inteiros."
      ],
      "metadata": {
        "id": "XoWjsmf-HgPO"
      }
    },
    {
      "cell_type": "code",
      "source": [
        "from cvc5.pythonic import *\n",
        "\n",
        "a, b = Ints('a b')\n",
        "max_profit = 0\n",
        "best_solution = None\n",
        "\n",
        "while True:\n",
        "    solver = Solver()\n",
        "    solver.add(5*a + 3*b <= 30, a >= 2, b >= 4)\n",
        "    solver.add(4*a + 5*b > max_profit)  # Seek better solutions\n",
        "\n",
        "    if solver.check() == sat:\n",
        "        model = solver.model()\n",
        "        current_profit = model.evaluate(4*a + 5*b).as_long()\n",
        "        max_profit = current_profit\n",
        "        best_solution = model\n",
        "    else:\n",
        "        break\n",
        "\n",
        "print(f\"Optimal solution: {best_solution}\")\n",
        "print(f\"Maximum profit: {max_profit}\")"
      ],
      "metadata": {
        "id": "ObGBgoPupgkl",
        "colab": {
          "base_uri": "https://localhost:8080/"
        },
        "outputId": "f7f6b432-0adc-4030-e34c-f163fee3e32b"
      },
      "execution_count": 23,
      "outputs": [
        {
          "output_type": "stream",
          "name": "stdout",
          "text": [
            "Optimal solution: [a = 2, b = 6]\n",
            "Maximum profit: 38\n"
          ]
        }
      ]
    },
    {
      "cell_type": "markdown",
      "source": [
        "## 2. Aritmética Linear Real (LRA)\n",
        "A Aritmética Linear Real (LRA) lida com equações lineares onde as variáveis podem assumir valores reais.  \n",
        "Ela é amplamente utilizada em otimização, economia e engenharia.\n",
        "\n",
        "\n"
      ],
      "metadata": {
        "id": "wZDqYBEEO6Z5"
      }
    },
    {
      "cell_type": "markdown",
      "source": [
        "### Exemplo 1:\n",
        "Resolver a equação linear para valores inteiros:\n",
        "\n",
        "Razão Simples\n",
        "$$\n",
        "2.5x = 10.0\n",
        "$$\n",
        "\n",
        "onde $ x $ são reais.\n"
      ],
      "metadata": {
        "id": "gI9ZfwRrO6Z-"
      }
    },
    {
      "cell_type": "code",
      "source": [
        "x = Real('x')\n",
        "solve(2.5*x == 10.0)"
      ],
      "metadata": {
        "id": "L7vF7-xHO6Z_",
        "colab": {
          "base_uri": "https://localhost:8080/"
        },
        "outputId": "c9bcb1f2-90d6-45bb-8db2-8c5fec8c3023"
      },
      "execution_count": 24,
      "outputs": [
        {
          "output_type": "stream",
          "name": "stdout",
          "text": [
            "[x = 4]\n"
          ]
        }
      ]
    },
    {
      "cell_type": "markdown",
      "source": [
        "### Exemplo 2:\n",
        "Resolver a equação linear para valores inteiros:\n",
        "\n",
        "Problema de mistura\n",
        "$$\n",
        "0.3x + 0.6y = 12\n",
        "$$\n",
        "$$\n",
        "x + y = 30\n",
        "$$\n",
        "\n",
        "onde $x$, $y$ são reais."
      ],
      "metadata": {
        "id": "hyG5rV4NO6Z_"
      }
    },
    {
      "cell_type": "code",
      "source": [
        "x, y = Reals('x y')\n",
        "solve(0.3*x + 0.6*y == 12, x + y == 30)"
      ],
      "metadata": {
        "id": "XVAuERXUO6Z_",
        "colab": {
          "base_uri": "https://localhost:8080/"
        },
        "outputId": "c5cfb38a-c59a-440e-9eee-ef847144b35b"
      },
      "execution_count": 25,
      "outputs": [
        {
          "output_type": "stream",
          "name": "stdout",
          "text": [
            "[x = 20, y = 10]\n"
          ]
        }
      ]
    },
    {
      "cell_type": "markdown",
      "source": [
        "### Exemplo 3:\n",
        "Resolver a equação linear para valores inteiros:\n",
        "\n",
        "Determinar se existe um plano de produção que satisfaça:\n",
        "$$\n",
        "1,8A + 2,4B + 1,2C ≤ 1200 \\, (\\text{Energia [MJ]})\n",
        "$$\n",
        "\n",
        "$$\n",
        "0,9A + 1,5B + 2,1C ≤ 800 \\, (\\text{Matéria-prima [toneladas]})\n",
        "$$\n",
        "\n",
        "$$\n",
        "2,5A + 1,8B + 3,0C ≤ 1500 \\, (\\text{Água [m³]})\n",
        "$$\n",
        "\n",
        "$$\n",
        "A ≥ 50 \\, (\\text{Produto Mínimo A})\n",
        "$$\n",
        "\n",
        "$$\n",
        "B ≥ 0,6C \\, (\\text{Proporção B/C do Produto})\n",
        "$$\n",
        "\n",
        "$$\n",
        "C ≤ 2A \\, (\\text{C Máx. em relação a A})\n",
        "$$\n",
        "\n",
        "$$\n",
        "A + B + C ≥ 300 \\, (\\text{Produção total})\n",
        "$$\n",
        "\n",
        "\n",
        "onde $A$, $B$ são reais."
      ],
      "metadata": {
        "id": "vjwJ68eYO6Z_"
      }
    },
    {
      "cell_type": "code",
      "source": [
        "from cvc5.pythonic import *\n",
        "\n",
        "A, B, C = Reals('A B C')\n",
        "\n",
        "solver = Solver()\n",
        "solver.add(\n",
        "    1.8*A + 2.4*B + 1.2*C <= 1200,\n",
        "    0.9*A + 1.5*B + 2.1*C <= 800,\n",
        "    2.5*A + 1.8*B + 3.0*C <= 1500,\n",
        "    A >= 50,\n",
        "    B >= 0.6*C,\n",
        "    C <= 2*A,\n",
        "    A + B + C >= 300\n",
        ")\n",
        "\n",
        "# check:\n",
        "print(\"Basic feasibility:\", solver.check())\n",
        "if solver.check() == sat:\n",
        "    model = solver.model()\n",
        "    print(f\"Sample solution: A={model[A]}, B={model[B]}, C={model[C]}\")\n",
        "\n",
        "solver.push()  # Temporary constraint\n",
        "solver.add(B >= 450)\n",
        "print(\"\\nWith B≥450:\", solver.check())\n",
        "print(\"Basic feasibility:\", solver.check())\n",
        "if solver.check() == sat:\n",
        "    model = solver.model()\n",
        "    print(f\"Sample solution: A={model[A]}, B={model[B]}, C={model[C]}\")\n",
        "solver.pop()  # Remove temporary constraint"
      ],
      "metadata": {
        "id": "cQ9SVKi5aOzH",
        "colab": {
          "base_uri": "https://localhost:8080/"
        },
        "outputId": "951a44a4-9312-43e2-8c97-ce646ac01dd6"
      },
      "execution_count": 26,
      "outputs": [
        {
          "output_type": "stream",
          "name": "stdout",
          "text": [
            "Basic feasibility: sat\n",
            "Sample solution: A=50, B=250, C=0\n",
            "\n",
            "With B≥450: sat\n",
            "Basic feasibility: sat\n",
            "Sample solution: A=50, B=450, C=-200\n"
          ]
        }
      ]
    },
    {
      "cell_type": "markdown",
      "source": [
        "## 3. Aritmética Não Linear Inteira (NIA)\n",
        "A Aritmética Não Linear Inteira (NIA) trata de equações não lineares onde as variáveis assumem apenas valores inteiros.  \n",
        "Este tipo de problema é mais desafiador devido à complexidade combinatória.\n",
        "\n",
        "\n",
        "\n"
      ],
      "metadata": {
        "id": "6bMo5iyqhsC2"
      }
    },
    {
      "cell_type": "markdown",
      "source": [
        "### Exemplo 1:\n",
        "Resolver a Equação Diofantina para valores inteiros:\n",
        "\n",
        "$$\n",
        "x² + y² = z² + 20\n",
        "$$\n",
        "$$\n",
        "x > y > 0\n",
        "$$\n",
        "$$\n",
        " z > 5\n",
        "$$\n",
        "\n",
        "onde $ x,y,z $ são inteiros.\n"
      ],
      "metadata": {
        "id": "pgyY5JXzhsC7"
      }
    },
    {
      "cell_type": "code",
      "source": [
        "from cvc5.pythonic import *\n",
        "\n",
        "x, y, z = Ints('x y z')\n",
        "solve(x > y, y > 0, z > 5, x*x + y*y == z*z + 20,)"
      ],
      "metadata": {
        "id": "i5_LUIHshsC7",
        "colab": {
          "base_uri": "https://localhost:8080/"
        },
        "outputId": "7fa6d96f-358a-4ec0-d0fc-cf2dda270abc"
      },
      "execution_count": 27,
      "outputs": [
        {
          "output_type": "stream",
          "name": "stdout",
          "text": [
            "[x = 10, y = 1, z = 9]\n"
          ]
        }
      ]
    },
    {
      "cell_type": "code",
      "source": [
        "from cvc5.pythonic import *\n",
        "x, y, z = Ints('x y z')\n",
        "s = SolverFor('QF_NIA')  # Usando Linear Real Arithmetic\n",
        "\n",
        "# Adicionando as restrições\n",
        "s.add(x > y, y > 0, z > 5, x*x + y*y == z*z + 20)\n",
        "\n",
        "print(s.model() if s.check() == sat else \"unsat\")"
      ],
      "metadata": {
        "colab": {
          "base_uri": "https://localhost:8080/"
        },
        "id": "hqerSYt_keOw",
        "outputId": "e883a4b0-166c-47d0-e711-1290ad037676"
      },
      "execution_count": 28,
      "outputs": [
        {
          "output_type": "stream",
          "name": "stdout",
          "text": [
            "[x = 10, y = 1, z = 9]\n"
          ]
        }
      ]
    },
    {
      "cell_type": "markdown",
      "source": [
        "### Exemplo 2:\n",
        "Encontre fatores de 221 como\n",
        "$$\n",
        "a * b = 221\n",
        "$$\n",
        "\n",
        "\n",
        "onde $a$, $b$ são inteiros e primos."
      ],
      "metadata": {
        "id": "5zJVCJzkhsC8"
      }
    },
    {
      "cell_type": "code",
      "source": [
        "a, b = Ints('a b')\n",
        "solve(a > 1, b > 1, a * b == 221, a != b)"
      ],
      "metadata": {
        "id": "tMviIXWohsC8",
        "colab": {
          "base_uri": "https://localhost:8080/"
        },
        "outputId": "ac102b6e-dfd1-439e-cf07-e197d9ee40aa"
      },
      "execution_count": 29,
      "outputs": [
        {
          "output_type": "stream",
          "name": "stdout",
          "text": [
            "[a = 13, b = 17]\n"
          ]
        }
      ]
    },
    {
      "cell_type": "markdown",
      "source": [
        "### Exemplo 3:\n",
        "Resolver o Sistema não linear:\n",
        "\n",
        "$$\n",
        "x³ + y² = 250\n",
        "$$\n",
        "\n",
        "$$\n",
        "x × y = 20\n",
        "$$\n",
        "\n",
        "$$\n",
        "x > y ≥ 2\n",
        "$$\n",
        "\n",
        "\n",
        "\n",
        "\n",
        "onde $x$, $y$ são inteiros."
      ],
      "metadata": {
        "id": "_0jxboJWhsC8"
      }
    },
    {
      "cell_type": "code",
      "source": [
        "x, y = Ints('x y')\n",
        "solve(x > y, y >= 2, x**3 + y**2 == 141, x * y == 20)"
      ],
      "metadata": {
        "id": "4nBPBSezhsC8",
        "colab": {
          "base_uri": "https://localhost:8080/"
        },
        "outputId": "df0a4910-9828-402d-8ab6-5bfe06e48319"
      },
      "execution_count": 30,
      "outputs": [
        {
          "output_type": "stream",
          "name": "stdout",
          "text": [
            "[x = 5, y = 4]\n"
          ]
        }
      ]
    },
    {
      "cell_type": "markdown",
      "source": [
        "## 4. Aritmética Não Linear Real (NRA)\n",
        "A Aritmética Não Linear Real (NRA) lida com equações não lineares onde as variáveis podem assumir valores reais.  \n",
        "Ela é aplicada em áreas como física, economia e aprendizado de máquina.\n",
        "\n",
        "\n"
      ],
      "metadata": {
        "id": "YzuF67hnnsJm"
      }
    },
    {
      "cell_type": "markdown",
      "source": [
        "### Exemplo 1:\n",
        "Sistema Quadrático\n",
        "Resolva para números reais:\n",
        "$$\n",
        "x² + y = 10\n",
        "$$\n",
        "$$\n",
        "x * y = 12\n",
        "$$\n",
        "\n",
        "onde $ x, y $ são reais.\n"
      ],
      "metadata": {
        "id": "PS3vHcIRnsJm"
      }
    },
    {
      "cell_type": "code",
      "source": [
        "from cvc5.pythonic import *\n",
        "x, y = Reals('x y')\n",
        "s = SolverFor('QF_NRA')\n",
        "s.add(x**2 + y == 10, x * y == 12)\n",
        "s.add(x * y == 12)\n",
        "print(s.model() if s.check() == sat else \"unsat\")"
      ],
      "metadata": {
        "id": "NMT1C96YfbH7",
        "colab": {
          "base_uri": "https://localhost:8080/"
        },
        "outputId": "9e4e51a9-8069-4ef1-9370-1adc733b1ad1"
      },
      "execution_count": 31,
      "outputs": [
        {
          "output_type": "stream",
          "name": "stdout",
          "text": [
            "[x = (_ real_algebraic_number <1*x^3 + (-10*x) + 12, (3/2, 7/4)>), y = (_ real_algebraic_number <1*x^3 + (-10*x^2) + 144, (29/4, 15/2)>)]\n"
          ]
        }
      ]
    },
    {
      "cell_type": "code",
      "source": [
        "from cvc5.pythonic import *\n",
        "x, y = Reals('x y')\n",
        "s = SolverFor('QF_NRA')\n",
        "s.add(x**2 + y == 10, x * y == 12, x==2)\n",
        "s.add(x * y == 12)\n",
        "print(s.model() if s.check() == sat else \"unsat\")"
      ],
      "metadata": {
        "colab": {
          "base_uri": "https://localhost:8080/"
        },
        "id": "Gs7Z0Z-KgJ3j",
        "outputId": "b0645474-cb76-435e-b30b-eaa5d091add5"
      },
      "execution_count": 32,
      "outputs": [
        {
          "output_type": "stream",
          "name": "stdout",
          "text": [
            "[x = 2, y = 6]\n"
          ]
        }
      ]
    },
    {
      "cell_type": "markdown",
      "source": [
        "\n",
        "Output: [x = 2, y = 6] or [x = -3, y = -4]"
      ],
      "metadata": {
        "id": "3uPVehp1_wMo"
      }
    },
    {
      "cell_type": "markdown",
      "source": [
        "# Bitvectors\n",
        "Bitvectors são sequências de bits (0s e 1s) usadas para representar dados de forma compacta e eficiente. Cada bit em um bitvector pode representar informações binárias, como estados de dispositivos ou flags. Operações lógicas e aritméticas, como AND, OR, e SHIFT, são realizadas em nível de bit, permitindo manipulação rápida e eficiente. Bitvectors são usados em áreas como criptografia, otimização de algoritmos e computação simbólica."
      ],
      "metadata": {
        "id": "ymVAGxFxqJHs"
      }
    },
    {
      "cell_type": "markdown",
      "source": [
        "##Exemplo 1:\n",
        "Representação de Dados Binários"
      ],
      "metadata": {
        "id": "FUeOc0qHqkvy"
      }
    },
    {
      "cell_type": "code",
      "source": [
        "from cvc5.pythonic import *\n",
        "\n",
        "x = BitVec('x', 8)  # x é um bitvector de 8 bits\n",
        "s = SolverFor('QF_BV')  # Solver para bitvectors\n",
        "s.add(x * 5 == 1)  # Adicionando restrição para x * 5 == 1\n",
        "result = s.check()  # Checando se a fórmula é satisfatível\n",
        "print(\"result: \", result)\n",
        "if result == sat:\n",
        "    m = s.model()\n",
        "    print(\"\\n\".join([str(k) + \" : \" + str(m[k]) for k in m]))"
      ],
      "metadata": {
        "colab": {
          "base_uri": "https://localhost:8080/"
        },
        "id": "FqkwdUILslEr",
        "outputId": "66dfc882-3e88-4433-924c-a98b896b896d"
      },
      "execution_count": 33,
      "outputs": [
        {
          "output_type": "stream",
          "name": "stdout",
          "text": [
            "result:  sat\n",
            "x : 205\n"
          ]
        }
      ]
    },
    {
      "cell_type": "markdown",
      "source": [
        "o bitvector x é utilizado para representar um valor binário de 8 bits. A restrição x * 5 == 1 é uma operação simples em bitvectors, onde o solver tenta encontrar um valor para x que satisfaça essa equação. Esse exemplo demonstra como um bitvector pode ser manipulado de forma eficiente para representar e resolver operações binárias.\n",
        "\n",
        "Esse tipo de operação é útil quando precisamos representar números inteiros de forma compacta e manipulá-los diretamente em nível de bits, especialmente em computação de baixo nível, criptografia e design de hardware."
      ],
      "metadata": {
        "id": "GuiKadrhsxPH"
      }
    },
    {
      "cell_type": "markdown",
      "source": [
        "##Exemplo 2:\n",
        " Implementação de Função de Valor Absoluto"
      ],
      "metadata": {
        "id": "zCiyvEjgtBM8"
      }
    },
    {
      "cell_type": "code",
      "source": [
        "from cvc5.pythonic import *\n",
        "x = Const(\"x\", BitVecSort(32))  # x é um bitvector de 32 bits\n",
        "xrs = x >> 31  # Deslocamento de x 31 bits à direita\n",
        "abs_ref = If(x < 0, -x, x)   # Implementação de abs()\n",
        "abs1 = (x ^ xrs) - xrs  # Alternativa 1 para abs(x)\n",
        "abs2 = (x + xrs) ^ xrs  # Alternativa 2 para abs(x)\n",
        "abs3 = x - ((x << 1) & xrs)  # Alternativa 3 para abs(x)\n",
        "\n",
        "prove(abs_ref == abs1)  # Verificando se abs_ref == abs1\n",
        "prove(abs_ref == abs2)  # Verificando se abs_ref == abs2\n",
        "prove(abs_ref == abs3)  # Verificando se abs_ref == abs3"
      ],
      "metadata": {
        "colab": {
          "base_uri": "https://localhost:8080/"
        },
        "id": "Bk06NkUntDvQ",
        "outputId": "2616e851-3e5f-4e31-97b7-c809c3b4d95e"
      },
      "execution_count": 34,
      "outputs": [
        {
          "output_type": "stream",
          "name": "stdout",
          "text": [
            "proved\n",
            "proved\n",
            "proved\n"
          ]
        }
      ]
    },
    {
      "cell_type": "markdown",
      "source": [
        "Este exemplo ilustra três maneiras diferentes de calcular o valor absoluto de um número representado como um bitvector de 32 bits.\n",
        "\n",
        "A operação de deslocamento de bits (>> e <<) é usada para manipular diretamente os bits do valor de x. As três alternativas (abs1, abs2, abs3) tentam calcular o valor absoluto de x usando diferentes truques bit a bit, sem a necessidade de uma operação condicional como if.\n",
        "\n",
        "O prove é utilizado para verificar a equivalência entre a implementação convencional (abs_ref) e as alternativas propostas.\n",
        "\n",
        "Esse exemplo mostra como operações aritméticas e de manipulação de bits podem ser usadas para calcular funções matemáticas de forma eficiente. Em sistemas embarcados e computação de baixo nível, essas operações são fundamentais para realizar cálculos rápidos e eficientes sem sobrecarregar o sistema com funções complexas."
      ],
      "metadata": {
        "id": "rr2Wq0tYtMnL"
      }
    },
    {
      "cell_type": "markdown",
      "source": [
        "##Exemplo 3:\n",
        "Prova de Propriedade de um Algoritmo"
      ],
      "metadata": {
        "id": "cFZB6CujtfBp"
      }
    },
    {
      "cell_type": "code",
      "source": [
        "prove(abs_ref == abs1)  # Verificando se abs_ref == abs1\n",
        "prove(abs_ref == abs2)  # Verificando se abs_ref == abs2\n",
        "prove(abs_ref == abs3)  # Verificando se abs_ref == abs3"
      ],
      "metadata": {
        "colab": {
          "base_uri": "https://localhost:8080/"
        },
        "id": "AV2Z_m_Ytjc_",
        "outputId": "d5d2db40-475b-47a5-f743-0dfb5d27cd6e"
      },
      "execution_count": 35,
      "outputs": [
        {
          "output_type": "stream",
          "name": "stdout",
          "text": [
            "proved\n",
            "proved\n",
            "proved\n"
          ]
        }
      ]
    },
    {
      "cell_type": "markdown",
      "source": [
        "Neste exemplo, as provas são realizadas para garantir que as diferentes implementações de valor absoluto (abs1, abs2, abs3) sejam equivalentes à implementação tradicional (abs_ref).\n",
        "Isso é feito através de verificação formal usando o prove para garantir que todas as alternativas estão corretas e produzem o mesmo resultado.\n",
        "\n",
        "Provas formais são úteis em áreas onde a precisão é crítica, como em sistemas de segurança e algoritmos de criptografia.\n",
        "Utilizando bitvectors e provas formais, é possível garantir que as operações aritméticas e lógicas sejam realizadas corretamente sem falhas."
      ],
      "metadata": {
        "id": "6MOAKcnBt4tQ"
      }
    },
    {
      "cell_type": "markdown",
      "source": [
        "#Floating-Point Arithmetic (IEEE 754)\n",
        "A aritmética de ponto flutuante no padrão IEEE 754 representa números reais com três componentes: sinal, expoente e mantissa. Usando essa representação, é possível lidar com uma vasta gama de valores, incluindo números muito grandes e muito pequenos. O padrão define formatos de precisão simples (32 bits) e dupla (64 bits). No entanto, operações de ponto flutuante podem introduzir erros de arredondamento e imprecisão devido à representação finita dos números."
      ],
      "metadata": {
        "id": "xvqqk9GSqdGv"
      }
    },
    {
      "cell_type": "markdown",
      "source": [
        "##Exemplo 1:\n",
        "Soma de Números de Ponto Flutuante"
      ],
      "metadata": {
        "id": "XIZ5f8Bavxvi"
      }
    },
    {
      "cell_type": "code",
      "source": [
        "from cvc5.pythonic import *\n",
        "\n",
        "# Definindo variáveis de ponto flutuante com precisão de 32 bits\n",
        "x, y = FPs(\"x y\", Float32())\n",
        "\n",
        "# Definindo um solver para aritmética de ponto flutuante\n",
        "s = SolverFor('QF_FP')\n",
        "\n",
        "# Adicionando as restrições de soma e subtração\n",
        "s.add(x + y == 10.5)\n",
        "s.add(x - y == 2.5)\n",
        "\n",
        "# Verificando satisfatibilidade\n",
        "result = s.check()\n",
        "\n",
        "if result == sat:\n",
        "    m = s.model()\n",
        "    print(\"result:\", result)\n",
        "    # Imprimindo os valores de x e y que satisfazem as restrições\n",
        "    print(\"\\n\".join([str(k) + \" : \" + str(m[k]) for k in m]))\n",
        "else:\n",
        "    print(\"Não foi encontrada uma solução satisfatória.\")\n",
        "\n",
        "\n"
      ],
      "metadata": {
        "colab": {
          "base_uri": "https://localhost:8080/"
        },
        "id": "g3mNSKkIv0e6",
        "outputId": "665c80cc-eab2-4226-b0e9-86932d6c759e"
      },
      "execution_count": 36,
      "outputs": [
        {
          "output_type": "stream",
          "name": "stdout",
          "text": [
            "result: sat\n",
            "x : 1.625*(2**2)\n",
            "y : 1*(2**2)\n"
          ]
        }
      ]
    },
    {
      "cell_type": "markdown",
      "source": [
        "##Exemplo 2:"
      ],
      "metadata": {
        "id": "nUYF15e_xLPc"
      }
    },
    {
      "cell_type": "code",
      "source": [
        "from cvc5.pythonic import *\n",
        "\n",
        "# Definindo variáveis de ponto flutuante com precisão de 32 bits\n",
        "x, y = FPs(\"x y\", Float32())\n",
        "\n",
        "# Definindo um solver para aritmética de ponto flutuante\n",
        "s = SolverFor('QF_FP')\n",
        "\n",
        "# Adicionando as restrições de multiplicação e divisão\n",
        "s.add(x * y == 12)\n",
        "s.add(x / y == 3)\n",
        "\n",
        "# Verificando satisfatibilidade\n",
        "result = s.check()\n",
        "\n",
        "if result == sat:\n",
        "    m = s.model()\n",
        "    print(\"result:\", result)\n",
        "    # Imprimindo os valores de x e y que satisfazem as restrições\n",
        "    print(\"\\n\".join([str(k) + \" : \" + str(m[k]) for k in m]))\n",
        "else:\n",
        "    print(\"Não foi encontrada uma solução satisfatória.\")\n"
      ],
      "metadata": {
        "colab": {
          "base_uri": "https://localhost:8080/"
        },
        "id": "Zov3U5hSxKly",
        "outputId": "47a8362a-2e63-4c4f-e643-c79e07bb9a20"
      },
      "execution_count": 37,
      "outputs": [
        {
          "output_type": "stream",
          "name": "stdout",
          "text": [
            "result: sat\n",
            "x : -1.5*(2**2)\n",
            "y : -1*(2**1)\n"
          ]
        }
      ]
    },
    {
      "cell_type": "markdown",
      "source": [
        "A aritmética de ponto flutuante é um padrão essencial para cálculos numéricos em computadores. Ela permite representar números reais com precisão limitada, utilizando uma representação binária que simula números racionais. O padrão IEEE 754 define como números de ponto flutuante devem ser representados e operados em sistemas computacionais."
      ],
      "metadata": {
        "id": "qUhfpZWVwMhG"
      }
    },
    {
      "cell_type": "markdown",
      "source": [
        "Principais utilidades:\n",
        "\n",
        "* Alta precisão em cálculos científicos: Usado em áreas como física, astronomia e engenharia, onde a precisão dos cálculos numéricos é crucial.\n",
        "\n",
        "* Processamento de sinais e imagens: A aritmética de ponto flutuante é útil para manipular grandes quantidades de dados de forma eficiente, como em computação gráfica, áudio e vídeo.\n",
        "\n",
        "* Aprendizado de máquina: Muitos algoritmos de aprendizado de máquina e redes neurais fazem uso de cálculos em ponto flutuante para otimizar modelos e processar grandes volumes de dados.\n",
        "\n",
        "* Simulações financeiras: No setor financeiro, a aritmética de ponto flutuante é usada para cálculos financeiros complexos que envolvem variáveis em grande escala."
      ],
      "metadata": {
        "id": "hYols0X-wd_Q"
      }
    },
    {
      "cell_type": "markdown",
      "source": [
        "#Strings/Sequents"
      ],
      "metadata": {
        "id": "Cl6aaf5f1b_f"
      }
    },
    {
      "cell_type": "markdown",
      "source": [
        "##Exemplo 1: Verificar se uma string contém outra"
      ],
      "metadata": {
        "id": "ctKTGAyc1fTj"
      }
    },
    {
      "source": [
        "from cvc5.pythonic import *\n",
        "\n",
        "# Exemplo 1: Strings com operações de concatenação e comprimento\n",
        "s1 = String(\"abc\")\n",
        "s2 = String(\"def\")\n",
        "\n",
        "# Concatenação\n",
        "s3 = s1 + s2  # s3 será \"abcdef\"\n",
        "print(f\"Concatenação: {s3}\")\n",
        "\n",
        "# Comprimento de strings\n",
        "len_s1 = Length(s1)  # len_s1 será 3\n",
        "print(f\"Comprimento de s1: {len_s1}\")\n",
        "\n",
        "\n",
        "# Exemplo 2: Usando Contains\n",
        "s4 = String(\"Hello, world!\")\n",
        "s5 = String(\"world\")\n",
        "\n",
        "contains_result = Contains(s4, s5) # Verifica se s5 está contida em s4\n",
        "\n",
        "# Create a solver and check for satisfiability\n",
        "slv = Solver()\n",
        "slv.add(contains_result)\n",
        "result = slv.check()\n",
        "\n",
        "# Print the result\n",
        "print(f\"'world' está em 'Hello, world!': {result == sat}\")  # Output: True/False\n",
        "\n",
        "\n",
        "# Exemplo 3:  Comparando strings\n",
        "s6 = String(\"apple\")\n",
        "s7 = String(\"banana\")\n",
        "\n",
        "comparison_result = s6 == s7\n",
        "print(f\"'apple' é igual a 'banana': {simplify(comparison_result)}\")\n",
        "\n",
        "\n",
        "# Exemplo 4:  Substrings\n",
        "s8 = String(\"This is a test string\")\n",
        "s9 = SubString(s8, 10, 3)  # Extrai \"tes\" a partir da posição 10 com comprimento 3\n",
        "print(f\"Substring de s8: {simplify(s9)}\")\n",
        "\n",
        "\n",
        "# Exemplo 5:  Usando um Solver para Strings\n",
        "s = SolverFor('QF_SLIA') # Solver para strings\n",
        "\n",
        "str_var1 = String(\"x\")\n",
        "str_var2 = String(\"y\")\n",
        "str_var3 = String(\"z\")\n",
        "\n",
        "# Restrições\n",
        "s.add(Length(str_var1) == 1)\n",
        "s.add(str_var3 == str_var1 + str_var2)\n",
        "s.add(Length(str_var3) == 2)\n",
        "s.add(Contains(str_var3, String(\"a\")))  # 'a' está em str_var3\n",
        "\n",
        "# Check for satisfiability\n",
        "result = s.check()\n",
        "print(f\"Satisfatibilidade: {result}\")\n",
        "\n",
        "if result == sat:\n",
        "  m = s.model()\n",
        "  print(f\"Modelo: str_var1 = {m[str_var1]}, str_var2 = {m[str_var2]}, str_var3 = {m[str_var3]}\")"
      ],
      "cell_type": "code",
      "metadata": {
        "colab": {
          "base_uri": "https://localhost:8080/"
        },
        "id": "oh0T-euditQz",
        "outputId": "90d6e450-f1fa-43b6-f02c-4ccbc183ef0a"
      },
      "execution_count": 38,
      "outputs": [
        {
          "output_type": "stream",
          "name": "stdout",
          "text": [
            "Concatenação: +(abc, def)\n",
            "Comprimento de s1: Length(abc)\n",
            "'world' está em 'Hello, world!': True\n",
            "'apple' é igual a 'banana': apple == banana\n",
            "Substring de s8: SubString(|This is a test string|, 10, 3)\n",
            "Satisfatibilidade: sat\n",
            "Modelo: str_var1 = \"B\", str_var2 = \"A\", str_var3 = \"BA\"\n"
          ]
        }
      ]
    },
    {
      "cell_type": "code",
      "source": [
        "from cvc5.pythonic import *\n",
        "p, x, i = {}, {}, {}\n",
        "for k in range(1, 13): p[k] = Bool(\"p\" + str(k))\n",
        "for k in range(1, 6): x[k] = String(\"x\" + str(k))\n",
        "for k in range(1,7): i[k] = String(\"i\" + str(k))\n",
        "\n",
        "result = StringVal(\"abbaabb\")\n",
        "\n",
        "s = SolverFor('QF_SLIA')\n",
        "s.add(And(Length(x[1]) <= 2, Length(x[2]) <= 2))\n",
        "\n",
        "s.add(i[1] == If(p[1], x[1], x[2]))\n",
        "s.add(i[2] == If(p[2], x[1], x[2]))\n",
        "s.add(x[3] == Concat(i[1], i[2]))\n",
        "\n",
        "s.add(i[3] == If(p[3], x[1], If(p[4], x[2], x[3])))\n",
        "s.add(i[4] == If(p[5], x[1], If(p[6], x[2], x[3])))\n",
        "s.add(x[4] == Concat(i[3], i[4]))\n",
        "\n",
        "s.add(i[5] == If(p[7], x[1], If(p[8], x[2], If(p[9], x[3], x[4]))))\n",
        "s.add(i[6] == If(p[10], x[1], If(p[11], x[2], If(p[12], x[3], x[4]))))\n",
        "s.add(x[5] == Concat(i[5], i[6]))\n",
        "\n",
        "s.add(x[5] == result)\n",
        "\n",
        "print(s.model() if s.check() == sat else \"unsat\")"
      ],
      "metadata": {
        "colab": {
          "base_uri": "https://localhost:8080/"
        },
        "id": "VA-LQn5c8uvK",
        "outputId": "df08c3cf-35e9-4f69-c8d7-03ead8b86dc7"
      },
      "execution_count": 39,
      "outputs": [
        {
          "output_type": "stream",
          "name": "stdout",
          "text": [
            "[i1 = \"a\", i2 = \"bb\", i3 = \"a\", i4 = \"abb\", i5 = \"abb\", i6 = \"aabb\", p1 = True, p10 = False, p11 = False, p12 = False, p2 = False, p3 = True, p4 = True, p5 = False, p6 = False, p7 = False, p8 = False, p9 = True, x1 = \"a\", x2 = \"bb\", x3 = \"abb\", x4 = \"aabb\", x5 = \"abbaabb\"]\n"
          ]
        }
      ]
    },
    {
      "cell_type": "code",
      "source": [
        "from cvc5.pythonic import *\n",
        "x, y, z = Consts(\"x y z\", SeqSort(IntSort()))\n",
        "\n",
        "s = SolverFor('QF_SLIA')\n",
        "\n",
        "s.add(Length(x) > 0)\n",
        "s.add(x[0] + x[Length(x) - 1] == 9)\n",
        "s.add(y == Concat(x,x))\n",
        "s.add(z == Concat(Unit(IntVal(3)), Unit(IntVal(4)), Unit(IntVal(5))))\n",
        "s.add(Contains(y, z))\n",
        "\n",
        "print(s.model() if s.check() == sat else \"unsat\")\n"
      ],
      "metadata": {
        "colab": {
          "base_uri": "https://localhost:8080/"
        },
        "id": "qpGykyg48pec",
        "outputId": "53f34c87-149f-4e24-b564-ea10b498d368"
      },
      "execution_count": 40,
      "outputs": [
        {
          "output_type": "stream",
          "name": "stdout",
          "text": [
            "[x = (seq.++ (seq.unit 4) (seq.unit 3) (seq.unit 4) (seq.unit 5))(), y = (seq.++ (seq.unit 4) (seq.unit 3) (seq.unit 4) (seq.unit 5) (seq.unit 4) (seq.unit 3) (seq.unit 4) (seq.unit 5))(), z = (seq.++ (seq.unit 3) (seq.unit 4) (seq.unit 5))()]\n"
          ]
        }
      ]
    },
    {
      "cell_type": "markdown",
      "source": [
        "A manipulação de strings e sequências com solvers SMT oferece um poder significativo em termos de verificação automática e análise simbólica. Isso é útil em uma ampla gama de áreas, incluindo verificação de programas, segurança de software, processamento de texto e modelagem de estruturas de dados complexas. A capacidade de usar um solver para verificar propriedades sobre strings e sequências sem precisar gerar instâncias concretas é um poderoso recurso, especialmente em contextos de verificação formal e análise lógica."
      ],
      "metadata": {
        "id": "GW49SXZyChlM"
      }
    },
    {
      "cell_type": "markdown",
      "source": [
        "# Algebraic Datatypes"
      ],
      "metadata": {
        "id": "FyO51sbcKMzO"
      }
    },
    {
      "cell_type": "code",
      "source": [
        "from cvc5.pythonic import *\n",
        "decl = Datatype(\"tree\")\n",
        "decl.declare(\"node\", (\"data\", IntSort()), (\"left\", decl), (\"right\", decl))\n",
        "decl.declare(\"nil\")\n",
        "Tree = decl.create()\n",
        "\n",
        "x, y = Consts(\"x y\", Tree)\n",
        "\n",
        "s = SolverFor('ALL')\n",
        "s.add(Tree.is_node(x))\n",
        "s.add(Tree.is_node(y))\n",
        "s.add(Tree.left(x) == Tree.right(y))\n",
        "s.add(Tree.data(x) > 100)\n",
        "\n",
        "print(s.model() if s.check() == sat else \"unsat\")\n",
        "\n",
        "\n"
      ],
      "metadata": {
        "colab": {
          "base_uri": "https://localhost:8080/"
        },
        "id": "6JfsgmUo4FjP",
        "outputId": "a04c75c6-5fd0-4453-af98-43d9c190f987"
      },
      "execution_count": 41,
      "outputs": [
        {
          "output_type": "stream",
          "name": "stdout",
          "text": [
            "[x = node(101, nil, node(0, nil, nil)), y = node(0, node(0, nil, node(0, nil, nil)), nil)]\n"
          ]
        }
      ]
    },
    {
      "cell_type": "markdown",
      "source": [
        "Tipos Algébricos Recursivos: Ele demonstra como trabalhar com tipos recursivos, que são fundamentais em muitas linguagens funcionais e em problemas matemáticos complexos, como a manipulação de estruturas de dados dinâmicas, como árvores e listas encadeadas.\n",
        "\n",
        "Verificação Formal: Ao usar o solver cvc5, o código permite a verificação formal de propriedades sobre essas estruturas de dados. Em vez de apenas criar e manipular árvores de forma imperativa, o código formaliza propriedades como simetria (subárvores) e valores (dados em um nó) e usa um solver para garantir que essas propriedades sejam atendidas.\n",
        "\n",
        "Aplicações em Inteligência Artificial e Lógica: Esse tipo de modelagem é útil em contextos de verificação automática, inteligência artificial (IA) e soluções de problemas de lógica. Por exemplo, pode ser utilizado em:\n",
        "\n",
        "Verificação de programas: Garantir que um programa manipule árvores de forma correta e atenda a condições especificadas.\n",
        "Lógica simbólica: Resolver problemas lógicos envolvendo estruturas de dados complexas.\n",
        "Árvores de decisão e algoritmos recursivos: Modelar e validar propriedades sobre algoritmos que operam em árvores.\n"
      ],
      "metadata": {
        "id": "Q0PsS3Nr8V_X"
      }
    },
    {
      "cell_type": "markdown",
      "source": [
        "#Sets/Relations"
      ],
      "metadata": {
        "id": "n5NKFkAZ8eNN"
      }
    },
    {
      "cell_type": "code",
      "source": [
        "from cvc5.pythonic import *\n",
        "S = DeclareSort(\"S\")\n",
        "A, B, C = [Set(i, S) for i in [\"A\",\"B\",\"C\"]]\n",
        "s = SolverFor('QF_FS')\n",
        "s.add(Not((A | (B & C)) == ((A | B) & (A | C))))\n",
        "print(s.check())\n"
      ],
      "metadata": {
        "colab": {
          "base_uri": "https://localhost:8080/"
        },
        "id": "u10QUBlZ8g9x",
        "outputId": "313af7b4-cba1-40d2-810b-4adcdcf8faea"
      },
      "execution_count": 42,
      "outputs": [
        {
          "output_type": "stream",
          "name": "stdout",
          "text": [
            "unsat\n"
          ]
        }
      ]
    },
    {
      "cell_type": "markdown",
      "source": [
        "O uso de sets e relações em SMT tem várias aplicações práticas:\n",
        "\n",
        "Verificação de Programas: Verificar se operações de conjuntos (como união e interseção) estão sendo feitas corretamente dentro de um programa, garantindo que o comportamento esperado seja mantido.\n",
        "\n",
        "Sistemas de Banco de Dados: Modelar operações sobre conjuntos de dados, como a união de tabelas ou a interseção de conjuntos de registros.\n",
        "\n",
        "Algoritmos de Computação Combinatória: Resolver problemas de algoritmos combinatórios que envolvem operações sobre conjuntos, como problemas de agrupamento, particionamento de conjuntos e teoria dos grafos.\n",
        "\n",
        "Teoria da Computação e Lógicas Formais: A análise algébrica e lógica de relações e conjuntos é uma parte fundamental da teoria da computação, especialmente em contextos de lógicas formais e prova de teoremas.\n",
        "\n",
        "Segurança e Criptografia: Em protocolos de segurança, relações e operações de conjuntos podem ser usadas para modelar permissões de acesso, criptografia de dados ou qualquer operação envolvendo agregação ou seleção de dados.\n",
        "\n",
        "Conclusão\n",
        "A manipulação de sets e relações no contexto de solvers SMT oferece uma maneira formal e eficiente de verificar propriedades algébricas e lógicas sobre dados, o que é essencial para diversas áreas da computação, incluindo verificação de programas, teoria da computação, segurança, bancos de dados, e algoritmos de otimização. O uso de SMT para verificar a satisfatibilidade de expressões envolvendo conjuntos e relações pode ser uma ferramenta poderosa em modelagem formal e análise simbólica."
      ],
      "metadata": {
        "id": "1Skz7VRACzzz"
      }
    },
    {
      "cell_type": "markdown",
      "source": [
        "#Quantifiers"
      ],
      "metadata": {
        "id": "mWp9qKyC87iG"
      }
    },
    {
      "cell_type": "code",
      "source": [
        "from cvc5.pythonic import *\n",
        "s = SolverFor('UF')\n",
        "s.setOption('enum-inst', True)\n",
        "s.setOption('finite-model-find', True)\n",
        "s.setOption('mbqi', True)\n",
        "s.setOption('sygus-inst', True)"
      ],
      "metadata": {
        "id": "l0F9ENEH89zm"
      },
      "execution_count": 43,
      "outputs": []
    },
    {
      "cell_type": "code",
      "source": [
        "from cvc5.pythonic import *\n",
        "S = DeclareSort(\"S\")\n",
        "Bool = BoolSort()\n",
        "Human = Function(\"Human\", S, Bool)\n",
        "Mortal = Function(\"Mortal\", S, Bool)\n",
        "Socrates = Const(\"Socrates\", S)\n",
        "\n",
        "s = SolverFor('UF')\n",
        "\n",
        "x = Const(\"x\", S)\n",
        "s.add(ForAll([x], Implies(Human(x), Mortal(x))))\n",
        "s.add(Human(Socrates))\n",
        "s.add(Not(Mortal(Socrates)))\n",
        "\n",
        "print(s.check())\n"
      ],
      "metadata": {
        "colab": {
          "base_uri": "https://localhost:8080/"
        },
        "id": "jbrtOKUb9Her",
        "outputId": "005d62f3-9e4e-42f7-f9a9-561ff3403991"
      },
      "execution_count": 44,
      "outputs": [
        {
          "output_type": "stream",
          "name": "stdout",
          "text": [
            "unsat\n"
          ]
        }
      ]
    },
    {
      "cell_type": "markdown",
      "source": [
        "A importância dos quantificadores em lógica de primeira ordem:\n",
        "Quantificadores Universais (ForAll): O quantificador ForAll é utilizado para expressar propriedades gerais que se aplicam a todos os elementos de um determinado domínio. No seu exemplo, ele é usado para afirmar que todos os seres humanos são mortais.\n",
        "\n",
        "Quantificadores Existenciais (Exists): Embora não tenha sido utilizado explicitamente no seu código, o quantificador existencial (Exists) é usado para afirmar que existe pelo menos um elemento em um domínio que satisfaz uma certa condição. Por exemplo, você poderia afirmar que \"existe um ser humano que é imortal\", utilizando Exists([x], And(Human(x), Not(Mortal(x)))).\n",
        "\n",
        "Verificação de Propriedades Lógicas: O uso de quantificadores permite que você escreva e verifique propriedades lógicas mais complexas que envolvem todo um domínio ou a existência de elementos específicos que satisfazem certas condições. Eles são fundamentais em provas formais e verificação automática de teoremas, sendo usados para modelar e verificar especificações de sistemas ou afirmações lógicas.\n",
        "\n",
        "Aplicações em Inteligência Artificial e Computação: Os quantificadores são utilizados em vários contextos, como:\n",
        "\n",
        "Verificação Formal: Garantir que um sistema de software ou hardware satisfaça as propriedades desejadas em todos os casos possíveis.\n",
        "Lógica de Programação: Especificação de invariantes de loops e verificação de correção de programas.\n",
        "Raciocínio Automático e Inteligência Artificial: Em sistemas baseados em conhecimento (como ontologias e sistemas de raciocínio), os quantificadores são usados para inferir novos conhecimentos a partir de dados existentes.\n",
        "Conclusão\n",
        "A utilização de quantificadores universais e existenciais permite expressar propriedades sobre todos os elementos de um domínio ou a existência de certos elementos que satisfaçam determinadas condições. No seu exemplo, o uso de ForAll para afirmar que todos os humanos são mortais e a contradição gerada por afirmar que Socrates não é mortal ajuda a entender a importância dos quantificadores para expressar e verificar propriedades lógicas complexas em sistemas formais."
      ],
      "metadata": {
        "id": "QSGBJdHXDVHv"
      }
    },
    {
      "cell_type": "markdown",
      "source": [
        "#Separation Logic"
      ],
      "metadata": {
        "id": "X93w5sw39yWl"
      }
    },
    {
      "source": [
        "from cvc5.pythonic import *\n",
        "\n",
        "# Create solver with separation logic\n",
        "solver = SolverFor(\"ALL\")\n",
        "\n",
        "# Declare a custom heap type (Int -> Int)\n",
        "Heap = Datatype(\"Heap\")\n",
        "Heap.declare(\"pto\", (\"addr\", IntSort()), (\"value\", IntSort()))  # Represents address -> value mapping\n",
        "Heap.create()\n",
        "\n",
        "# Declare constants for heap-like behavior\n",
        "x, a, b = Ints('x a b')\n",
        "\n",
        "# Create a custom function to represent heap allocations\n",
        "pto = Function(\"pto\", IntSort(), IntSort(), BoolSort())  # A function to represent heap allocations (pointer-to)\n",
        "\n",
        "# Assert conflicting heap allocations\n",
        "solver.add(And(pto(x, a), pto(x, b)))  # x points to a and x points to b\n",
        "solver.add(a != b)  # a and b are not equal\n",
        "\n",
        "# Check for satisfiability\n",
        "print(solver.check())  # Output: unsat\n",
        "\n"
      ],
      "cell_type": "code",
      "metadata": {
        "colab": {
          "base_uri": "https://localhost:8080/"
        },
        "id": "NlMaVQuJIXbW",
        "outputId": "6581174f-42c1-4999-a3a7-e01e937eb069"
      },
      "execution_count": 45,
      "outputs": [
        {
          "output_type": "stream",
          "name": "stdout",
          "text": [
            "sat\n"
          ]
        }
      ]
    },
    {
      "cell_type": "code",
      "source": [
        "from cvc5.pythonic import *\n",
        "\n",
        "# Create solver\n",
        "solver = SolverFor(\"ALL\")\n",
        "\n",
        "# Declare custom sort U\n",
        "U = DeclareSort('U')\n",
        "\n",
        "# Declare custom heap type (U -> Int)\n",
        "Heap = Datatype(\"Heap\")\n",
        "Heap.declare(\"pto\", (\"addr\", U), (\"value\", IntSort()))  # Represents addr -> value\n",
        "Heap.create()\n",
        "\n",
        "# Declare constants\n",
        "x = Const('x', U)\n",
        "a = Int('a')\n",
        "\n",
        "# Create a custom function to represent heap allocations (Pto)\n",
        "pto = Function(\"pto\", U, IntSort(), BoolSort())\n",
        "\n",
        "# Assert non-empty heap (x points to a value a)\n",
        "solver.add(pto(x, a))  # Represent that x points to a\n",
        "\n",
        "# Check for satisfiability\n",
        "print(solver.check())  # Expected output: sat"
      ],
      "metadata": {
        "colab": {
          "base_uri": "https://localhost:8080/"
        },
        "id": "LeGqP_tOKiOn",
        "outputId": "4bb798fe-02ea-4c54-8167-743bd5e0a624"
      },
      "execution_count": 46,
      "outputs": [
        {
          "output_type": "stream",
          "name": "stdout",
          "text": [
            "sat\n"
          ]
        }
      ]
    },
    {
      "cell_type": "code",
      "source": [
        "from cvc5.pythonic import *\n",
        "\n",
        "# Create solver\n",
        "solver = SolverFor(\"ALL\")\n",
        "\n",
        "# Declare Node datatype\n",
        "Node = Datatype('Node')\n",
        "Node.declare('node', ('data', IntSort()),\n",
        "                   ('left', IntSort()),\n",
        "                   ('right', IntSort()))\n",
        "Node = Node.create()  # This already represents a sort\n",
        "\n",
        "# Declare a function to represent heap: Int -> Node\n",
        "Heap = Function('Heap', IntSort(), Node)  # No need for .sort()\n",
        "\n",
        "# Declare constants\n",
        "x, y, z = Ints('x y z')\n",
        "\n",
        "# Create a node instance\n",
        "node_x = Node.node(0, y, z)\n",
        "\n",
        "# Assert heap allocation (Heap(x) == node_x)\n",
        "solver.add(Heap(x) == node_x)\n",
        "\n",
        "# Check for satisfiability\n",
        "print(solver.check())  # Expected output: sat\n"
      ],
      "metadata": {
        "colab": {
          "base_uri": "https://localhost:8080/"
        },
        "id": "lTOEIFdAK1B7",
        "outputId": "227d97b7-55b3-44e8-ff10-04b8417b33d9"
      },
      "execution_count": 47,
      "outputs": [
        {
          "output_type": "stream",
          "name": "stdout",
          "text": [
            "sat\n"
          ]
        }
      ]
    },
    {
      "cell_type": "markdown",
      "source": [
        "A Separation Logic é uma ferramenta poderosa para raciocinar sobre alocação dinâmica, prevenir bugs de memória e analisar programas concorrentes de forma eficiente. Seu uso em SMT solvers como cvc5 permite automatizar a verificação de código e garantir maior segurança e correção em software crítico."
      ],
      "metadata": {
        "id": "yJhD0mZbRooZ"
      }
    },
    {
      "cell_type": "markdown",
      "source": [
        "Principais Benefícios da Separation Logic\n",
        "\n",
        "Raciocínio Local\n",
        "Permite raciocinar sobre partes específicas da memória sem precisar considerar o estado global inteiro.\n",
        "Exemplo: Se sabemos que um ponteiro p aponta para um nó de uma lista, podemos provar propriedades sobre ele sem precisar analisar toda a lista.\n",
        "\n",
        "Evita Condições de Corrupção de Memória\n",
        "Modela explicitamente a alocação e liberação de memória, ajudando a detectar:\n",
        "Derefências inválidas (accesso a ponteiros inválidos)\n",
        "Vazamentos de memória (memória não liberada)\n",
        "Uso de memória desalocada (use-after-free)\n",
        "\n",
        "Prova Propriedades de Estruturas de Dados Dinâmicas\n",
        "Útil para provar correção de estruturas como:\n",
        "Listas encadeadas, árvores, heaps.\n",
        "Exemplo: Pode garantir que um nó de uma árvore não tem filhos duplicados ou que uma lista não tem ciclos.\n",
        "\n",
        "Facilita Análise de Programas Concorrentes\n",
        "A lógica de separação permite definir partições disjuntas de memória, o que é essencial para programação concorrente segura.\n",
        "Ajuda a evitar problemas como condições de corrida e deadlocks.\n",
        "🔹 Como Funciona na Prática?\n",
        "A lógica de separação introduz dois principais operadores:\n",
        "\n",
        "Separating Conjunction ( ∗ )\n",
        "\n",
        "Expressa que duas partes da memória são separadas e independentes.\n",
        "Exemplo:\n",
        "𝑃\n",
        "(\n",
        "𝑥\n",
        ")\n",
        "∗\n",
        "𝑄\n",
        "(\n",
        "𝑦\n",
        ")\n",
        "P(x)∗Q(y)\n",
        "significa que P(x) e Q(y) ocupam regiões disjuntas da memória.\n",
        "Separating Implication ( −∗ )\n",
        "\n",
        "Expressa que se tivermos P, então podemos transformar P em Q, preservando separação.\n",
        "Útil para especificar condições de pré/pós-condição em funções."
      ],
      "metadata": {
        "id": "Fq7LLD30Rwdk"
      }
    }
  ]
}